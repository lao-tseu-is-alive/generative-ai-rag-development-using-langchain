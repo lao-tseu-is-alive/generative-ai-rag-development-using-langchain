{
 "cells": [
  {
   "cell_type": "markdown",
   "id": "9995428c",
   "metadata": {},
   "source": [
    "## Getting a bit more deeper into Agents\n",
    "- Conversational Memory\n",
    "- ReAct DocStore Agent\n",
    "- Self-ask with Search Agent"
   ]
  },
  {
   "cell_type": "markdown",
   "id": "d380d545-52b5-431e-a06f-206f63027f76",
   "metadata": {},
   "source": [
    "#### Install the following Libraries if they are not installed already"
   ]
  },
  {
   "cell_type": "code",
   "execution_count": 3,
   "id": "d18f1151",
   "metadata": {},
   "outputs": [],
   "source": [
    "#!pip install langchain\n",
    "#!pip install langchain-community\n",
    "#!pip install langchain-openai\n",
    "#!pip install python-dotenv\n",
    "#!pip install langchain-google-genai\n",
    "#!pip install langchainhub\n",
    "#!pip install wikipedia\n",
    "#!pip install -U duckduckgo-search"
   ]
  },
  {
   "cell_type": "markdown",
   "id": "364a815e-b18e-48ff-ae1c-5a668cdc4c64",
   "metadata": {},
   "source": [
    "#### Import Libraries"
   ]
  },
  {
   "cell_type": "code",
   "execution_count": 57,
   "id": "e3da1f22",
   "metadata": {},
   "outputs": [],
   "source": [
    "from langchain.agents import create_react_agent, load_tools, create_structured_chat_agent\n",
    "from langchain_openai import ChatOpenAI\n",
    "from langchain_google_genai import ChatGoogleGenerativeAI\n",
    "from langchain.memory import ConversationBufferMemory\n",
    "from langchain_core.runnables.history import RunnableWithMessageHistory\n",
    "from langchain.memory import ChatMessageHistory\n",
    "from dotenv import load_dotenv\n",
    "from langchain.agents import initialize_agent, Tool\n",
    "from langchain.chains import LLMMathChain\n",
    "from langchain import hub\n",
    "from langchain_core.prompts import PromptTemplate\n",
    "from langchain.agents import AgentExecutor, create_react_agent, create_self_ask_with_search_agent\n",
    "from langchain.memory import ConversationBufferMemory\n",
    "from langchain_core.prompts.chat import ChatPromptTemplate, MessagesPlaceholder\n",
    "import warnings\n",
    "import os"
   ]
  },
  {
   "cell_type": "code",
   "execution_count": 7,
   "id": "926f311f",
   "metadata": {},
   "outputs": [
    {
     "data": {
      "text/plain": [
       "True"
      ]
     },
     "execution_count": 7,
     "metadata": {},
     "output_type": "execute_result"
    }
   ],
   "source": [
    "load_dotenv()"
   ]
  },
  {
   "cell_type": "markdown",
   "id": "e2a8ca25-e2b8-4b92-9ca0-d090fdc25f09",
   "metadata": {},
   "source": [
    "#### Set your LLM"
   ]
  },
  {
   "cell_type": "markdown",
   "id": "d43822e8",
   "metadata": {},
   "source": [
    "## Conversational ReAct Agents\n",
    "This agent is designed for use in conversational settings. It incorporates the React framework to determine which tool to use and utilizes memory to remember previous conversation interactions."
   ]
  },
  {
   "cell_type": "code",
   "execution_count": 97,
   "id": "4c116d09",
   "metadata": {},
   "outputs": [],
   "source": [
    "llm = ChatOpenAI(model_name=\"gpt-3.5-turbo\", openai_api_key=os.getenv(\"OPENAI_API_KEY\"), temperature=0)"
   ]
  },
  {
   "cell_type": "markdown",
   "id": "406ef40f-cb16-44b2-a88c-9c95c8a8e32f",
   "metadata": {},
   "source": [
    "#### Load the LLMMath tool"
   ]
  },
  {
   "cell_type": "code",
   "execution_count": 105,
   "id": "d7587b94",
   "metadata": {},
   "outputs": [],
   "source": [
    "problem_chain = LLMMathChain.from_llm(llm=llm)\n",
    "math_tool = Tool.from_function(name=\"Calculator\",\n",
    "                func=problem_chain.run,\n",
    "                 description=\"\"\"Useful for when you need to answer questions \n",
    "                        about math. This tool is only for math questions and nothing else. Only input\n",
    "                        math expressions.\"\"\")\n",
    "\n",
    "tools = [math_tool]"
   ]
  },
  {
   "cell_type": "markdown",
   "id": "5a979dfe-5750-4351-9184-b8b0a462e198",
   "metadata": {},
   "source": [
    "#### Instantiate Conversational memory for our Agent"
   ]
  },
  {
   "cell_type": "code",
   "execution_count": 108,
   "id": "2135da4f",
   "metadata": {},
   "outputs": [],
   "source": [
    "memory = ConversationBufferMemory(memory_key=\"chat_history\", return_messages=True)"
   ]
  },
  {
   "cell_type": "markdown",
   "id": "a66c15b2-bb67-460b-831b-2b5e36b5b59f",
   "metadata": {},
   "source": [
    "### Establish the System and Human Prompts and create the Prompt object "
   ]
  },
  {
   "cell_type": "code",
   "execution_count": 111,
   "id": "7b22d45b",
   "metadata": {},
   "outputs": [],
   "source": [
    "# Define the Prompt Template\n",
    "\n",
    "system = '''Respond to the human as helpfully and accurately as possible. You have access to the following tools:\n",
    "\n",
    "{tools}\n",
    "\n",
    "Use a json blob to specify a tool by providing an action key (tool name) and an action_input key (tool input).\n",
    "\n",
    "Valid \"action\" values: \"Final Answer\" or {tool_names}\n",
    "\n",
    "Provide only ONE action per $JSON_BLOB, as shown:\n",
    "\n",
    "```\n",
    "{{\n",
    "  \"action\": $TOOL_NAME,\n",
    "  \"action_input\": $INPUT\n",
    "}}\n",
    "```\n",
    "\n",
    "Follow this format:\n",
    "\n",
    "Question: input arithmetic question to answer containing numeric digits\n",
    "Thought: consider previous steps if any\n",
    "Action:\n",
    "```\n",
    "$JSON_BLOB\n",
    "```\n",
    "Observation: action result of the arithmetic operation\n",
    "... (repeat Thought/Action/Observation N times)\n",
    "Thought: I know what to respond\n",
    "Action:\n",
    "```\n",
    "{{\n",
    "  \"action\": \"Final Answer\",\n",
    "  \"action_input\": \"Final response to human\"\n",
    "}}\n",
    "\n",
    "Begin! Reminder to ALWAYS respond with a valid json blob of a single action. Use tools if necessary. Respond directly if appropriate. Format is Action:```$JSON_BLOB```then Observation'''\n",
    "\n",
    "human = '''\n",
    "\n",
    "{input}\n",
    "\n",
    "{agent_scratchpad}\n",
    "\n",
    "(reminder to respond in a JSON blob no matter what)'''\n",
    "\n",
    "prompt = ChatPromptTemplate.from_messages(\n",
    "    [\n",
    "        (\"system\", system),\n",
    "        MessagesPlaceholder(\"chat_history\", optional=True),\n",
    "        (\"human\", human),\n",
    "    ]\n",
    ")\n"
   ]
  },
  {
   "cell_type": "markdown",
   "id": "5d4e1c13-3548-4355-92d7-be469ba9b171",
   "metadata": {},
   "source": [
    "### Create the Agent and Agent Executor Objects"
   ]
  },
  {
   "cell_type": "code",
   "execution_count": 114,
   "id": "fde9b337-320c-40e0-b031-fe2cecee94d9",
   "metadata": {},
   "outputs": [],
   "source": [
    "conversational_agent = create_structured_chat_agent(llm, tools, prompt)\n",
    "\n",
    "agent_executor = AgentExecutor(\n",
    "    agent=conversational_agent,\n",
    "    tools=tools,\n",
    "    verbose=True,\n",
    "    handle_parsing_errors=True,\n",
    "    memory=memory,\n",
    "    max_iterations=10,\n",
    ")"
   ]
  },
  {
   "cell_type": "markdown",
   "id": "06f498a3-af2b-4935-bf35-eed1a029adcb",
   "metadata": {},
   "source": [
    "### Set up a Loop if accepting user input (until \"X\" > Enter is pressed).\n",
    "<b>We try with a sequence of arithmetic questions:</b><br>\n",
    "Sample:<br>\n",
    "User:  Add 5 to 8<br>\n",
    "Agent: The sum of 5 and 8 is 13.<br>\n",
    "User:  add 6 to it<br>\n",
    "Agent: The result of adding 6 to 13 is 19.<br>\n",
    "User:  multiply this now with 5<br>\n",
    "Agent: The result of multiplying 19 by 5 is 95.<br>"
   ]
  },
  {
   "cell_type": "code",
   "execution_count": 119,
   "id": "2b36a814-6fce-48f9-b2f3-00baf063a032",
   "metadata": {},
   "outputs": [
    {
     "name": "stdin",
     "output_type": "stream",
     "text": [
      "User:  Add 5 to 7\n"
     ]
    },
    {
     "name": "stdout",
     "output_type": "stream",
     "text": [
      "\n",
      "\n",
      "\u001b[1m> Entering new AgentExecutor chain...\u001b[0m\n",
      "\u001b[32;1m\u001b[1;3m{\n",
      "  \"action\": \"Calculator\",\n",
      "  \"action_input\": {\n",
      "    \"tool_input\": \"5 + 7\"\n",
      "  }\n",
      "}\u001b[0m\u001b[36;1m\u001b[1;3mAnswer: 12\u001b[0m\u001b[32;1m\u001b[1;3m{\n",
      "  \"action\": \"Final Answer\",\n",
      "  \"action_input\": \"12\"\n",
      "}\u001b[0m\n",
      "\n",
      "\u001b[1m> Finished chain.\u001b[0m\n",
      "Agent: 12\n"
     ]
    },
    {
     "name": "stdin",
     "output_type": "stream",
     "text": [
      "User:  Multiply the result by 6\n"
     ]
    },
    {
     "name": "stdout",
     "output_type": "stream",
     "text": [
      "\n",
      "\n",
      "\u001b[1m> Entering new AgentExecutor chain...\u001b[0m\n",
      "\u001b[32;1m\u001b[1;3m{\n",
      "  \"action\": \"Calculator\",\n",
      "  \"action_input\": {\n",
      "    \"tool_input\": \"12 * 6\"\n",
      "  }\n",
      "}\u001b[0m\u001b[36;1m\u001b[1;3mAnswer: 72\u001b[0m\u001b[32;1m\u001b[1;3m{\n",
      "  \"action\": \"Final Answer\",\n",
      "  \"action_input\": \"72\"\n",
      "}\u001b[0m\n",
      "\n",
      "\u001b[1m> Finished chain.\u001b[0m\n",
      "Agent: 72\n"
     ]
    },
    {
     "name": "stdin",
     "output_type": "stream",
     "text": [
      "User:  Subtract 4 from it\n"
     ]
    },
    {
     "name": "stdout",
     "output_type": "stream",
     "text": [
      "\n",
      "\n",
      "\u001b[1m> Entering new AgentExecutor chain...\u001b[0m\n",
      "\u001b[32;1m\u001b[1;3m{\n",
      "  \"action\": \"Calculator\",\n",
      "  \"action_input\": {\n",
      "    \"tool_input\": \"72 - 4\"\n",
      "  }\n",
      "}\u001b[0m\u001b[36;1m\u001b[1;3mAnswer: 68\u001b[0m\u001b[32;1m\u001b[1;3m{\n",
      "  \"action\": \"Final Answer\",\n",
      "  \"action_input\": \"68\"\n",
      "}\u001b[0m\n",
      "\n",
      "\u001b[1m> Finished chain.\u001b[0m\n",
      "Agent: 68\n"
     ]
    },
    {
     "name": "stdin",
     "output_type": "stream",
     "text": [
      "User:  X\n"
     ]
    },
    {
     "name": "stdout",
     "output_type": "stream",
     "text": [
      "\n",
      "\n",
      "\u001b[1m> Entering new AgentExecutor chain...\u001b[0m\n",
      "\u001b[32;1m\u001b[1;3m{\n",
      "  \"action\": \"Final Answer\",\n",
      "  \"action_input\": \"68\"\n",
      "}\u001b[0m\n",
      "\n",
      "\u001b[1m> Finished chain.\u001b[0m\n",
      "Agent: 68\n"
     ]
    }
   ],
   "source": [
    "user_input = \"\"\n",
    "while user_input != \"X\":  # terminate the input loop by typing X (capital \"X\")\n",
    "    user_input = input(\"User: \")\n",
    "    chat_history = memory.buffer_as_messages\n",
    "    response = agent_executor.invoke({\n",
    "        \"input\": user_input,\n",
    "        \"chat_history\": chat_history,\n",
    "    })\n",
    "    print(\"Agent:\", response['output'])\n"
   ]
  },
  {
   "cell_type": "markdown",
   "id": "89ccc34a",
   "metadata": {},
   "source": [
    "# ReAct Docstore\n",
    "This agent utilizes the React framework to communicate with a docstore. It requires the availability of a Search tool and a Lookup tool with identical names. The Search tool is used to search for a document, while the Lookup tool looks up a term within the most recently found document."
   ]
  },
  {
   "cell_type": "markdown",
   "id": "6e3d7420",
   "metadata": {},
   "source": [
    "A `docstore` in Langchain is essentially a storage system for documents. It provides a way for Langchain agents to access and interact with information. Think of it like a library, but instead of books, it holds pieces of text and associated data."
   ]
  },
  {
   "cell_type": "code",
   "execution_count": 123,
   "id": "8f602d64",
   "metadata": {},
   "outputs": [],
   "source": [
    "from langchain.agents import initialize_agent, Tool\n",
    "from langchain import Wikipedia\n",
    "from langchain.agents.react.base import DocstoreExplorer"
   ]
  },
  {
   "cell_type": "markdown",
   "id": "1fe0a783-5650-4d6d-af46-0f4b0d601505",
   "metadata": {},
   "source": [
    "### Establish the Tools (Wikipedia search and Lookup)"
   ]
  },
  {
   "cell_type": "code",
   "execution_count": 152,
   "id": "6dc87455",
   "metadata": {},
   "outputs": [],
   "source": [
    "docstore = DocstoreExplorer(Wikipedia())\n",
    "tools=[\n",
    "    Tool(name=\"Search\", func=docstore.search, description=\"useful for when you need to search wikipedia\"),\n",
    "    Tool(name=\"Lookup\", func=docstore.lookup, description=\"useful for when you need to lookup a term in wikipedia\")]"
   ]
  },
  {
   "cell_type": "markdown",
   "id": "14657a8e-92da-46c7-95ec-2806a0bc5f54",
   "metadata": {},
   "source": [
    "### Set up the Prompts and intantiate the Prompt object using Prompt Template"
   ]
  },
  {
   "cell_type": "code",
   "execution_count": 155,
   "id": "48f53a76-7be7-480b-b543-3f140ac82a6b",
   "metadata": {},
   "outputs": [],
   "source": [
    "template = '''Answer the following questions as best you can. You have access to the following tools:\n",
    "\n",
    "{tools}\n",
    "\n",
    "Use the following format:\n",
    "\n",
    "Question: the input question you must answer\n",
    "Thought: you should always think about what to do\n",
    "Action: the action to take, should be one of [{tool_names}]\n",
    "Action Input: the input to the action\n",
    "Observation: the result of the action\n",
    "... (this Thought/Action/Action Input/Observation can repeat N times)\n",
    "Thought: I now know the final answer\n",
    "Final Answer: the final answer to the original input question\n",
    "\n",
    "Begin!\n",
    "\n",
    "Question: {input}\n",
    "Thought:{agent_scratchpad}'''\n",
    "\n",
    "prompt = PromptTemplate.from_template(template)"
   ]
  },
  {
   "cell_type": "markdown",
   "id": "02ee2993-417d-43e1-8af8-76707a09dcc9",
   "metadata": {},
   "source": [
    "### Create the Agent and Agent Executor"
   ]
  },
  {
   "cell_type": "code",
   "execution_count": 158,
   "id": "8f5ebae2-7e08-4a27-b192-418679306a4e",
   "metadata": {},
   "outputs": [],
   "source": [
    "docstore_agent = create_react_agent(\n",
    "    tools=tools,\n",
    "    llm=llm,\n",
    "    prompt=prompt,\n",
    ")\n",
    "\n",
    "agent_executor = AgentExecutor(\n",
    "    agent=docstore_agent,\n",
    "    tools=tools,\n",
    "    #verbose=True,\n",
    "    return_intermediate_steps=True,\n",
    "    handle_parsing_errors=True\n",
    ")"
   ]
  },
  {
   "cell_type": "markdown",
   "id": "683f390a-8e79-4306-9386-2212ab339f21",
   "metadata": {},
   "source": [
    "### Invoke the Agent Executor"
   ]
  },
  {
   "cell_type": "code",
   "execution_count": 161,
   "id": "67b08b47",
   "metadata": {},
   "outputs": [],
   "source": [
    "response = agent_executor.invoke(\n",
    "    {\"input\": \"Tell me a few key things about Martin Luther King.\"})"
   ]
  },
  {
   "cell_type": "code",
   "execution_count": 162,
   "id": "d48ad2fb-a4e3-4ad3-a7f4-b303b91ff12c",
   "metadata": {},
   "outputs": [
    {
     "name": "stdout",
     "output_type": "stream",
     "text": [
      "{'input': 'Tell me a few key things about Martin Luther King.', 'output': 'Martin Luther King Jr. was a prominent leader in the civil rights movement, known for his use of nonviolent resistance against discrimination. He led marches, organized protests, and advocated for civil rights legislation. He won the Nobel Peace Prize in 1964 and was assassinated in 1968. His legacy is honored with a national holiday, memorials, and streets named in his honor.', 'intermediate_steps': [(AgentAction(tool='Search', tool_input='Martin Luther King', log='I should search for information about Martin Luther King to gather key facts about him.\\nAction: Search\\nAction Input: Martin Luther King'), 'Martin Luther King Jr. (born Michael King Jr.; January 15, 1929 – April 4, 1968) was an American Baptist minister, activist, and political philosopher who was one of the most prominent leaders in the civil rights movement from 1955 until his assassination in 1968. A black church leader and a son of early civil rights activist and minister Martin Luther King Sr., King advanced civil rights for people of color in the United States through the use of nonviolent resistance and nonviolent civil disobedience against Jim Crow laws and other forms of legalized discrimination.\\nKing participated in and led marches for the right to vote, desegregation, labor rights, and other civil rights. He oversaw the 1955 Montgomery bus boycott and later became the first president of the Southern Christian Leadership Conference (SCLC). As president of the SCLC, he led the unsuccessful Albany Movement in Albany, Georgia, and helped organize some of the nonviolent 1963 protests in Birmingham, Alabama. King was one of the leaders of the 1963 March on Washington, where he delivered his \"I Have a Dream\" speech on the steps of the Lincoln Memorial, and helped organize two of the three Selma to Montgomery marches during the 1965 Selma voting rights movement. The civil rights movement achieved pivotal legislative gains in the Civil Rights Act of 1964, the Voting Rights Act of 1965, and the Fair Housing Act of 1968.\\nThe SCLC put into practice the tactics of nonviolent protest with some success by strategically choosing the methods and places in which protests were carried out. There were several dramatic standoffs with segregationist authorities, who frequently responded violently. King was jailed several times. Federal Bureau of Investigation (FBI) director J. Edgar Hoover considered King a radical and made him an object of the FBI\\'s COINTELPRO from 1963 forward. FBI agents investigated him for possible communist ties, spied on his personal life, and secretly recorded him. In 1964, the FBI mailed King a threatening anonymous letter, which he interpreted as an attempt to make him commit suicide.\\nOn October 14, 1964, King won the Nobel Peace Prize for combating racial inequality through nonviolent resistance.  In his final years, he expanded his focus to include opposition towards poverty and the Vietnam War. In 1968, King was planning a national occupation of Washington, D.C., to be called the Poor People\\'s Campaign, when he was assassinated on April 4 in Memphis, Tennessee. James Earl Ray, a fugitive from the Missouri State Penitentiary, was convicted of the assassination, though the King family believes he was a scapegoat; the assassination remains the subject of conspiracy theories. King\\'s death was followed by national mourning, as well as anger leading to riots in many U.S. cities. King was posthumously awarded the Presidential Medal of Freedom in 1977 and the Congressional Gold Medal in 2003. Martin Luther King Jr. Day was established as a holiday in cities and states throughout the United States beginning in 1971; the federal holiday was first observed in 1986. Hundreds of streets in the U.S. have been renamed in his honor, and King County, Washington, was rededicated for him. The Martin Luther King Jr. Memorial on the National Mall in Washington, D.C., was dedicated in 2011.')]}\n"
     ]
    }
   ],
   "source": [
    "print(response)"
   ]
  },
  {
   "cell_type": "markdown",
   "id": "a12108dd",
   "metadata": {},
   "source": [
    "# Self-ask with Search\n",
    "This agent utilizes the Intermediate Answer tool for self-asking questions."
   ]
  },
  {
   "cell_type": "code",
   "execution_count": 166,
   "id": "5edca0f3",
   "metadata": {},
   "outputs": [],
   "source": [
    "from langchain.tools import DuckDuckGoSearchRun\n",
    "search = DuckDuckGoSearchRun()"
   ]
  },
  {
   "cell_type": "markdown",
   "id": "d5350602-0ac0-456c-8fa1-7ee5a4e849e9",
   "metadata": {},
   "source": [
    "### Set up the Prompt and establish the Tools (DuckDuckgo Search)"
   ]
  },
  {
   "cell_type": "code",
   "execution_count": 178,
   "id": "ee1f84e2-47cb-483d-a85c-0ba390a8ff7a",
   "metadata": {},
   "outputs": [],
   "source": [
    "# Get the prompt to use - you can modify this to build your own prompt!\n",
    "prompt = hub.pull(\"hwchase17/self-ask-with-search\")\n",
    "\n",
    "tools = [\n",
    "    Tool(\n",
    "        func=search.run,\n",
    "        name=\"Intermediate Answer\",\n",
    "        description=\"useful for when you need to search the internet for information\"\n",
    "    )\n",
    "\n",
    "]\n",
    "prompt = hub.pull(\"hwchase17/self-ask-with-search\")"
   ]
  },
  {
   "cell_type": "markdown",
   "id": "d1dab5a1-7c04-41dc-b10b-97bce1f43484",
   "metadata": {},
   "source": [
    "### Create the Agent and Agent Executor"
   ]
  },
  {
   "cell_type": "code",
   "execution_count": 180,
   "id": "1f80ee35-017e-4a35-8001-3692b94bc3b8",
   "metadata": {},
   "outputs": [],
   "source": [
    "agent = create_self_ask_with_search_agent(\n",
    "    tools=tools,\n",
    "    llm=llm,\n",
    "    prompt=prompt\n",
    ")\n",
    "\n",
    "agent_executor = AgentExecutor(\n",
    "    agent=agent,\n",
    "    tools=tools,\n",
    "    verbose=True,\n",
    "    return_intermediate_steps=True,\n",
    "    handle_parsing_errors=True\n",
    ")"
   ]
  },
  {
   "cell_type": "code",
   "execution_count": 183,
   "id": "b024ca1e",
   "metadata": {},
   "outputs": [
    {
     "name": "stdout",
     "output_type": "stream",
     "text": [
      "\n",
      "\n",
      "\u001b[1m> Entering new AgentExecutor chain...\u001b[0m\n",
      "\u001b[32;1m\u001b[1;3mCould not parse output: No.\u001b[0mInvalid or incomplete response\u001b[32;1m\u001b[1;3mFollow up: When did the first Moon landing take place?\u001b[0m\u001b[36;1m\u001b[1;3mApollo 11, in July 1969, climaxed the step-by-step procedure with a lunar landing; on July 20 astronaut Neil Armstrong and then Edwin (\"Buzz\") Aldrin became the first humans to set foot on the Moon's surface. Apollo 12. Apollo 12 lifting off from John F. Kennedy Space Center, Cape Canaveral, Florida, November 14, 1969. Neil Armstrong was the first human to walk on the surface of the moon. He was an astronaut who flew on two space missions. The first was Gemini 8. The second was Apollo 11, which landed on the moon in 1969. Armstrong was also an engineer, a pilot and a college professor. Read More Neil Armstrong (1930-2012) was a U.S. astronaut who became the first human to walk on the moon on July 20, 1969, as part of the Apollo 11 mission. With the dress rehearsal completed during Apollo 10 in May 1969, only a few weeks remained until Apollo 11, the actual Moon landing mission to meet President Kennedy's goal set in 1961. Apollo 11 astronauts Neil A. Armstrong, Michael Collins, and Edwin E. \"Buzz\" Aldrin and their backups James A. Lovell, William A. Anders, and Fred W. Haise entered the final phase of their training ... The Apollo program, also known as Project Apollo, was the United States human spaceflight program carried out by the National Aeronautics and Space Administration (NASA), which succeeded in preparing and landing the first men on the Moon from 1968 to 1972.It was first conceived in 1960 during President Dwight D. Eisenhower's administration as a three-person spacecraft to follow the one-person ...\u001b[0m\u001b[32;1m\u001b[1;3mSo the final answer is: Richard Nixon\u001b[0m\n",
      "\n",
      "\u001b[1m> Finished chain.\u001b[0m\n"
     ]
    }
   ],
   "source": [
    "response = agent_executor.invoke(\n",
    "    {\"input\": \"Who was the president of USA when the first Moom landing took place?\"})"
   ]
  },
  {
   "cell_type": "code",
   "execution_count": 185,
   "id": "7dbe03fc",
   "metadata": {},
   "outputs": [
    {
     "name": "stdout",
     "output_type": "stream",
     "text": [
      "{'input': 'Who was the president of USA when the first Moom landing took place?', 'output': 'Richard Nixon', 'intermediate_steps': [(AgentAction(tool='_Exception', tool_input='Invalid or incomplete response', log='Could not parse output: No.'), 'Invalid or incomplete response'), (AgentAction(tool='Intermediate Answer', tool_input='When did the first Moon landing take place?', log='Follow up: When did the first Moon landing take place?'), 'Apollo 11, in July 1969, climaxed the step-by-step procedure with a lunar landing; on July 20 astronaut Neil Armstrong and then Edwin (\"Buzz\") Aldrin became the first humans to set foot on the Moon\\'s surface. Apollo 12. Apollo 12 lifting off from John F. Kennedy Space Center, Cape Canaveral, Florida, November 14, 1969. Neil Armstrong was the first human to walk on the surface of the moon. He was an astronaut who flew on two space missions. The first was Gemini 8. The second was Apollo 11, which landed on the moon in 1969. Armstrong was also an engineer, a pilot and a college professor. Read More Neil Armstrong (1930-2012) was a U.S. astronaut who became the first human to walk on the moon on July 20, 1969, as part of the Apollo 11 mission. With the dress rehearsal completed during Apollo 10 in May 1969, only a few weeks remained until Apollo 11, the actual Moon landing mission to meet President Kennedy\\'s goal set in 1961. Apollo 11 astronauts Neil A. Armstrong, Michael Collins, and Edwin E. \"Buzz\" Aldrin and their backups James A. Lovell, William A. Anders, and Fred W. Haise entered the final phase of their training ... The Apollo program, also known as Project Apollo, was the United States human spaceflight program carried out by the National Aeronautics and Space Administration (NASA), which succeeded in preparing and landing the first men on the Moon from 1968 to 1972.It was first conceived in 1960 during President Dwight D. Eisenhower\\'s administration as a three-person spacecraft to follow the one-person ...')]}\n"
     ]
    }
   ],
   "source": [
    "print(response)"
   ]
  },
  {
   "cell_type": "code",
   "execution_count": null,
   "id": "de75d8d8",
   "metadata": {},
   "outputs": [],
   "source": []
  },
  {
   "cell_type": "code",
   "execution_count": null,
   "id": "83a2ca08",
   "metadata": {},
   "outputs": [],
   "source": []
  }
 ],
 "metadata": {
  "kernelspec": {
   "display_name": "Python 3 (ipykernel)",
   "language": "python",
   "name": "python3"
  },
  "language_info": {
   "codemirror_mode": {
    "name": "ipython",
    "version": 3
   },
   "file_extension": ".py",
   "mimetype": "text/x-python",
   "name": "python",
   "nbconvert_exporter": "python",
   "pygments_lexer": "ipython3",
   "version": "3.12.4"
  }
 },
 "nbformat": 4,
 "nbformat_minor": 5
}
